{
  "nbformat": 4,
  "nbformat_minor": 0,
  "metadata": {
    "colab": {
      "provenance": []
    },
    "kernelspec": {
      "name": "python3",
      "display_name": "Python 3"
    },
    "language_info": {
      "name": "python"
    }
  },
  "cells": [
    {
      "cell_type": "code",
      "source": [
        "!pip install Nasdaq-Data-Link"
      ],
      "metadata": {
        "colab": {
          "base_uri": "https://localhost:8080/"
        },
        "id": "ErL8-uPQaqqy",
        "outputId": "ff7b2f46-b2a3-40e9-ff68-e227c30b8bf8"
      },
      "execution_count": 2,
      "outputs": [
        {
          "output_type": "stream",
          "name": "stdout",
          "text": [
            "Looking in indexes: https://pypi.org/simple, https://us-python.pkg.dev/colab-wheels/public/simple/\n",
            "Collecting Nasdaq-Data-Link\n",
            "  Downloading Nasdaq_Data_Link-1.0.4-py2.py3-none-any.whl (28 kB)\n",
            "Requirement already satisfied: more-itertools in /usr/local/lib/python3.8/dist-packages (from Nasdaq-Data-Link) (9.0.0)\n",
            "Collecting inflection>=0.3.1\n",
            "  Downloading inflection-0.5.1-py2.py3-none-any.whl (9.5 kB)\n",
            "Requirement already satisfied: pandas>=0.14 in /usr/local/lib/python3.8/dist-packages (from Nasdaq-Data-Link) (1.3.5)\n",
            "Requirement already satisfied: requests>=2.7.0 in /usr/local/lib/python3.8/dist-packages (from Nasdaq-Data-Link) (2.23.0)\n",
            "Requirement already satisfied: numpy>=1.8 in /usr/local/lib/python3.8/dist-packages (from Nasdaq-Data-Link) (1.21.6)\n",
            "Requirement already satisfied: six in /usr/local/lib/python3.8/dist-packages (from Nasdaq-Data-Link) (1.15.0)\n",
            "Requirement already satisfied: python-dateutil in /usr/local/lib/python3.8/dist-packages (from Nasdaq-Data-Link) (2.8.2)\n",
            "Requirement already satisfied: pytz>=2017.3 in /usr/local/lib/python3.8/dist-packages (from pandas>=0.14->Nasdaq-Data-Link) (2022.6)\n",
            "Requirement already satisfied: certifi>=2017.4.17 in /usr/local/lib/python3.8/dist-packages (from requests>=2.7.0->Nasdaq-Data-Link) (2022.9.24)\n",
            "Requirement already satisfied: idna<3,>=2.5 in /usr/local/lib/python3.8/dist-packages (from requests>=2.7.0->Nasdaq-Data-Link) (2.10)\n",
            "Requirement already satisfied: chardet<4,>=3.0.2 in /usr/local/lib/python3.8/dist-packages (from requests>=2.7.0->Nasdaq-Data-Link) (3.0.4)\n",
            "Requirement already satisfied: urllib3!=1.25.0,!=1.25.1,<1.26,>=1.21.1 in /usr/local/lib/python3.8/dist-packages (from requests>=2.7.0->Nasdaq-Data-Link) (1.24.3)\n",
            "Installing collected packages: inflection, Nasdaq-Data-Link\n",
            "Successfully installed Nasdaq-Data-Link-1.0.4 inflection-0.5.1\n"
          ]
        }
      ]
    },
    {
      "cell_type": "code",
      "execution_count": 1,
      "metadata": {
        "id": "jn-__0yoanlX"
      },
      "outputs": [],
      "source": [
        "import nasdaqdatalink\n",
        "import pandas as pd\n",
        "import numpy as np\n",
        "import matplotlib.pyplot as plt\n",
        "from keras.models import Sequential\n",
        "from keras.layers import Dense, Dropout, LSTM, Activation, SimpleRNN, GRU\n",
        "from keras.losses import MeanSquaredError\n",
        "from keras.metrics import MeanAbsoluteError\n",
        "from keras.optimizers import Adam\n",
        "from keras.callbacks import EarlyStopping\n",
        "np.random.seed(1234)  "
      ]
    },
    {
      "cell_type": "code",
      "source": [
        "# WTI Crude Oil price from the US Department of Energy\n",
        "mydata = nasdaqdatalink.get(\"EIA/PET_RWTC_D\") \n",
        "mydata.plot()"
      ],
      "metadata": {
        "colab": {
          "base_uri": "https://localhost:8080/",
          "height": 286
        },
        "id": "v2vC5jWGassx",
        "outputId": "50ed3316-72f2-4ad4-92f2-691a42af51fd"
      },
      "execution_count": 3,
      "outputs": [
        {
          "output_type": "execute_result",
          "data": {
            "text/plain": [
              "<matplotlib.axes._subplots.AxesSubplot at 0x7fd6f117a2e0>"
            ]
          },
          "metadata": {},
          "execution_count": 3
        },
        {
          "output_type": "display_data",
          "data": {
            "text/plain": [
              "<Figure size 432x288 with 1 Axes>"
            ],
            "image/png": "[encoded data removed]"
          },
          "metadata": {
            "needs_background": "light"
          }
        }
      ]
    },
    {
      "cell_type": "code",
      "source": [
        "# Убрал отрицительное значение\n",
        "mydata.iloc[np.where(mydata<0)[0], :] = 9.00"
      ],
      "metadata": {
        "id": "nB5EMc_uauDq"
      },
      "execution_count": 4,
      "outputs": []
    },
    {
      "cell_type": "code",
      "source": [
        "# Убрал даты - оставил только цены\n",
        "mydata.reset_index(inplace=True)\n",
        "mydata = mydata[\"Value\"]"
      ],
      "metadata": {
        "id": "kLApGGyWawBh"
      },
      "execution_count": 5,
      "outputs": []
    },
    {
      "cell_type": "code",
      "source": [
        "# Стандартизация\n",
        "data_mean = mydata.mean()\n",
        "data_std = mydata.std()\n",
        "mydata = (mydata - data_mean) / data_std"
      ],
      "metadata": {
        "id": "qcCVdykfaxLZ"
      },
      "execution_count": 6,
      "outputs": []
    },
    {
      "cell_type": "code",
      "source": [
        "# Генерация данных\n",
        "data_width = 500\n",
        "label_width = 50\n",
        "\n",
        "def window(data, data_width, label_width):\n",
        "  X = []\n",
        "  y = []\n",
        "  for i in range(data_width, len(data)-label_width):\n",
        "    X.append(data.values[i-data_width:i])\n",
        "    y.append(data.values[i:i+label_width])\n",
        "  return (X, y)\n",
        "\n",
        "X, y = window(mydata, data_width, label_width)"
      ],
      "metadata": {
        "id": "-TSsiYEJazbp"
      },
      "execution_count": 7,
      "outputs": []
    },
    {
      "cell_type": "code",
      "source": [
        "# Разделение на обучение, валидацию и тест\n",
        "n = len(X)\n",
        "train_X = X[0:int(n*0.7)]\n",
        "val_X = X[int(n*0.7):int(n*0.9)]\n",
        "test_X = X[int(n*0.9):]\n",
        "train_y = y[0:int(n*0.7)]\n",
        "val_y = y[int(n*0.7):int(n*0.9)]\n",
        "test_y = y[int(n*0.9):]"
      ],
      "metadata": {
        "id": "Bd_nr8RIa00Z"
      },
      "execution_count": 8,
      "outputs": []
    },
    {
      "cell_type": "code",
      "source": [
        "# Погдотовка данных для нейронной сети\n",
        "train_X = np.asarray(train_X)\n",
        "train_X = train_X.reshape((train_X.shape[0], train_X.shape[1], 1))\n",
        "val_X = np.asarray(val_X)\n",
        "val_X = val_X.reshape((val_X.shape[0], val_X.shape[1], 1))\n",
        "test_X = np.asarray(test_X)\n",
        "test_X = test_X.reshape((test_X.shape[0], test_X.shape[1], 1))\n",
        "train_y = np.asarray(train_y)\n",
        "train_y = train_y.reshape((train_y.shape[0], train_y.shape[1], 1))\n",
        "val_y = np.asarray(val_y)\n",
        "val_y = val_y.reshape((val_y.shape[0], val_y.shape[1], 1))\n",
        "test_y = np.asarray(test_y)\n",
        "test_y = test_y.reshape((test_y.shape[0], test_y.shape[1], 1))"
      ],
      "metadata": {
        "id": "K5jt2DvCa1_p"
      },
      "execution_count": 9,
      "outputs": []
    },
    {
      "cell_type": "code",
      "source": [
        "# Linear model\n",
        "\n",
        "Linear_model = Sequential()\n",
        "Linear_model.add(Dense(units=50, activation='sigmoid', input_shape=(train_X.shape[1], )))\n",
        "Linear_model.compile(loss=MeanSquaredError(), optimizer=Adam(), metrics=[MeanAbsoluteError()])\n",
        "Linear_model.summary()"
      ],
      "metadata": {
        "colab": {
          "base_uri": "https://localhost:8080/"
        },
        "id": "CNNlG6Sga3DZ",
        "outputId": "332a26a8-acb3-40b6-8b35-d424c45b5c05"
      },
      "execution_count": 10,
      "outputs": [
        {
          "output_type": "stream",
          "name": "stdout",
          "text": [
            "Model: \"sequential\"\n",
            "_________________________________________________________________\n",
            " Layer (type)                Output Shape              Param #   \n",
            "=================================================================\n",
            " dense (Dense)               (None, 50)                25050     \n",
            "                                                                 \n",
            "=================================================================\n",
            "Total params: 25,050\n",
            "Trainable params: 25,050\n",
            "Non-trainable params: 0\n",
            "_________________________________________________________________\n"
          ]
        }
      ]
    },
    {
      "cell_type": "code",
      "source": [
        "# Dense model\n",
        "\n",
        "Dense_model = Sequential()\n",
        "Dense_model.add(Dense(512, activation='relu', input_shape=(train_X.shape[1], )))\n",
        "Dense_model.add(Dense(50, activation='sigmoid'))\n",
        "\n",
        "Dense_model.compile(loss=MeanSquaredError(), optimizer=Adam(), metrics=[MeanAbsoluteError()])\n",
        "Dense_model.summary()"
      ],
      "metadata": {
        "colab": {
          "base_uri": "https://localhost:8080/"
        },
        "id": "IdIpBt9NbgeK",
        "outputId": "cc046741-25b6-4915-bc9b-f59b10147475"
      },
      "execution_count": 11,
      "outputs": [
        {
          "output_type": "stream",
          "name": "stdout",
          "text": [
            "Model: \"sequential_1\"\n",
            "_________________________________________________________________\n",
            " Layer (type)                Output Shape              Param #   \n",
            "=================================================================\n",
            " dense_1 (Dense)             (None, 512)               256512    \n",
            "                                                                 \n",
            " dense_2 (Dense)             (None, 50)                25650     \n",
            "                                                                 \n",
            "=================================================================\n",
            "Total params: 282,162\n",
            "Trainable params: 282,162\n",
            "Non-trainable params: 0\n",
            "_________________________________________________________________\n"
          ]
        }
      ]
    },
    {
      "cell_type": "code",
      "source": [
        "# LSTM model (easy)\n",
        "\n",
        "eLSTM_model = Sequential()\n",
        "\n",
        "eLSTM_model.add(LSTM(\n",
        "         input_shape=(train_X.shape[1], train_X.shape[2]),\n",
        "         units=32,\n",
        "         return_sequences=False))\n",
        "\n",
        "eLSTM_model.add(Dense(units=50, activation='sigmoid'))\n",
        "eLSTM_model.compile(loss=MeanSquaredError(), optimizer=Adam(), metrics=[MeanAbsoluteError()])\n",
        "eLSTM_model.summary()"
      ],
      "metadata": {
        "colab": {
          "base_uri": "https://localhost:8080/"
        },
        "id": "7zwy22X0bnEY",
        "outputId": "e7a4540b-f7ea-4684-dbe4-946edc637d61"
      },
      "execution_count": 12,
      "outputs": [
        {
          "output_type": "stream",
          "name": "stdout",
          "text": [
            "Model: \"sequential_2\"\n",
            "_________________________________________________________________\n",
            " Layer (type)                Output Shape              Param #   \n",
            "=================================================================\n",
            " lstm (LSTM)                 (None, 32)                4352      \n",
            "                                                                 \n",
            " dense_3 (Dense)             (None, 50)                1650      \n",
            "                                                                 \n",
            "=================================================================\n",
            "Total params: 6,002\n",
            "Trainable params: 6,002\n",
            "Non-trainable params: 0\n",
            "_________________________________________________________________\n"
          ]
        }
      ]
    },
    {
      "cell_type": "code",
      "source": [
        "# LSTM model (complex)\n",
        "\n",
        "cLSTM_model = Sequential()\n",
        "\n",
        "cLSTM_model.add(LSTM(\n",
        "         input_shape=(train_X.shape[1], train_X.shape[2]),\n",
        "         units=100,\n",
        "         return_sequences=True))\n",
        "cLSTM_model.add(Dropout(0.2))\n",
        "\n",
        "cLSTM_model.add(LSTM(\n",
        "          units=50,\n",
        "          return_sequences=False))\n",
        "cLSTM_model.add(Dropout(0.2))\n",
        "\n",
        "cLSTM_model.add(Dense(units=50, activation='sigmoid'))\n",
        "cLSTM_model.compile(loss=MeanSquaredError(), optimizer=Adam(), metrics=[MeanAbsoluteError()])\n",
        "cLSTM_model.summary()"
      ],
      "metadata": {
        "colab": {
          "base_uri": "https://localhost:8080/"
        },
        "id": "C3VDkNvebtsg",
        "outputId": "765d08e0-8330-4615-9137-a237a3cbc290"
      },
      "execution_count": 13,
      "outputs": [
        {
          "output_type": "stream",
          "name": "stdout",
          "text": [
            "Model: \"sequential_3\"\n",
            "_________________________________________________________________\n",
            " Layer (type)                Output Shape              Param #   \n",
            "=================================================================\n",
            " lstm_1 (LSTM)               (None, 500, 100)          40800     \n",
            "                                                                 \n",
            " dropout (Dropout)           (None, 500, 100)          0         \n",
            "                                                                 \n",
            " lstm_2 (LSTM)               (None, 50)                30200     \n",
            "                                                                 \n",
            " dropout_1 (Dropout)         (None, 50)                0         \n",
            "                                                                 \n",
            " dense_4 (Dense)             (None, 50)                2550      \n",
            "                                                                 \n",
            "=================================================================\n",
            "Total params: 73,550\n",
            "Trainable params: 73,550\n",
            "Non-trainable params: 0\n",
            "_________________________________________________________________\n"
          ]
        }
      ]
    },
    {
      "cell_type": "code",
      "source": [
        "history_elstm = eLSTM_model.fit(train_X, train_y, epochs=20, batch_size=200, validation_data=(val_X, val_y), verbose=1,\n",
        "                    callbacks = [EarlyStopping(monitor='val_loss', patience=1, mode='min')])\n",
        "history_clstm = cLSTM_model.fit(train_X, train_y, epochs=20, batch_size=200, validation_data=(val_X, val_y), verbose=1,\n",
        "                    callbacks = [EarlyStopping(monitor='val_loss', patience=1, mode='min')])\n",
        "history_linear = Linear_model.fit(train_X, train_y, epochs=20, batch_size=200, validation_data=(val_X, val_y), verbose=1,\n",
        "                    callbacks = [EarlyStopping(monitor='val_loss', patience=2, mode='min')])\n",
        "history_dense = Dense_model.fit(train_X, train_y, epochs=20, batch_size=200, validation_data=(val_X, val_y), verbose=1,\n",
        "                    callbacks = [EarlyStopping(monitor='val_loss', patience=2, mode='min')])"
      ],
      "metadata": {
        "colab": {
          "base_uri": "https://localhost:8080/"
        },
        "id": "p1bT7uLAcYeS",
        "outputId": "d09be9b9-d6cb-4b43-9a91-c9cbe43eafc9"
      },
      "execution_count": 14,
      "outputs": [
        {
          "output_type": "stream",
          "name": "stdout",
          "text": [
            "Epoch 1/20\n",
            "31/31 [==============================] - 18s 492ms/step - loss: 1.3164 - mean_absolute_error: 1.0523 - val_loss: 0.7817 - val_mean_absolute_error: 0.7171\n",
            "Epoch 2/20\n",
            "31/31 [==============================] - 16s 516ms/step - loss: 0.9676 - mean_absolute_error: 0.8951 - val_loss: 0.7138 - val_mean_absolute_error: 0.6734\n",
            "Epoch 3/20\n",
            "31/31 [==============================] - 12s 393ms/step - loss: 0.7569 - mean_absolute_error: 0.7781 - val_loss: 0.6823 - val_mean_absolute_error: 0.6781\n",
            "Epoch 4/20\n",
            "31/31 [==============================] - 15s 486ms/step - loss: 0.6949 - mean_absolute_error: 0.7438 - val_loss: 0.6381 - val_mean_absolute_error: 0.6573\n",
            "Epoch 5/20\n",
            "31/31 [==============================] - 12s 378ms/step - loss: 0.6676 - mean_absolute_error: 0.7281 - val_loss: 0.6099 - val_mean_absolute_error: 0.6457\n",
            "Epoch 6/20\n",
            "31/31 [==============================] - 13s 411ms/step - loss: 0.6497 - mean_absolute_error: 0.7172 - val_loss: 0.5862 - val_mean_absolute_error: 0.6355\n",
            "Epoch 7/20\n",
            "31/31 [==============================] - 12s 385ms/step - loss: 0.6379 - mean_absolute_error: 0.7104 - val_loss: 0.5525 - val_mean_absolute_error: 0.6089\n",
            "Epoch 8/20\n",
            "31/31 [==============================] - 12s 391ms/step - loss: 0.6343 - mean_absolute_error: 0.7119 - val_loss: 0.5200 - val_mean_absolute_error: 0.5893\n",
            "Epoch 9/20\n",
            "31/31 [==============================] - 12s 378ms/step - loss: 0.6205 - mean_absolute_error: 0.7004 - val_loss: 0.4891 - val_mean_absolute_error: 0.5599\n",
            "Epoch 10/20\n",
            "31/31 [==============================] - 14s 439ms/step - loss: 0.6148 - mean_absolute_error: 0.6978 - val_loss: 0.4689 - val_mean_absolute_error: 0.5494\n",
            "Epoch 11/20\n",
            "31/31 [==============================] - 11s 368ms/step - loss: 0.6101 - mean_absolute_error: 0.6963 - val_loss: 0.4358 - val_mean_absolute_error: 0.5162\n",
            "Epoch 12/20\n",
            "31/31 [==============================] - 12s 387ms/step - loss: 0.6018 - mean_absolute_error: 0.6885 - val_loss: 0.4168 - val_mean_absolute_error: 0.4988\n",
            "Epoch 13/20\n",
            "31/31 [==============================] - 16s 525ms/step - loss: 0.5982 - mean_absolute_error: 0.6866 - val_loss: 0.4097 - val_mean_absolute_error: 0.5030\n",
            "Epoch 14/20\n",
            "31/31 [==============================] - 16s 510ms/step - loss: 0.5929 - mean_absolute_error: 0.6814 - val_loss: 0.4017 - val_mean_absolute_error: 0.4989\n",
            "Epoch 15/20\n",
            "31/31 [==============================] - 11s 371ms/step - loss: 0.5899 - mean_absolute_error: 0.6790 - val_loss: 0.3941 - val_mean_absolute_error: 0.4950\n",
            "Epoch 16/20\n",
            "31/31 [==============================] - 12s 373ms/step - loss: 0.5875 - mean_absolute_error: 0.6773 - val_loss: 0.3864 - val_mean_absolute_error: 0.4892\n",
            "Epoch 17/20\n",
            "31/31 [==============================] - 11s 371ms/step - loss: 0.5852 - mean_absolute_error: 0.6755 - val_loss: 0.3800 - val_mean_absolute_error: 0.4868\n",
            "Epoch 18/20\n",
            "31/31 [==============================] - 12s 390ms/step - loss: 0.5833 - mean_absolute_error: 0.6739 - val_loss: 0.3758 - val_mean_absolute_error: 0.4837\n",
            "Epoch 19/20\n",
            "31/31 [==============================] - 17s 550ms/step - loss: 0.5818 - mean_absolute_error: 0.6725 - val_loss: 0.3722 - val_mean_absolute_error: 0.4809\n",
            "Epoch 20/20\n",
            "31/31 [==============================] - 15s 478ms/step - loss: 0.5807 - mean_absolute_error: 0.6717 - val_loss: 0.3675 - val_mean_absolute_error: 0.4758\n",
            "Epoch 1/20\n",
            "31/31 [==============================] - 95s 3s/step - loss: 1.1236 - mean_absolute_error: 0.9643 - val_loss: 0.6750 - val_mean_absolute_error: 0.6421\n",
            "Epoch 2/20\n",
            "31/31 [==============================] - 91s 3s/step - loss: 0.7452 - mean_absolute_error: 0.7729 - val_loss: 0.5483 - val_mean_absolute_error: 0.5972\n",
            "Epoch 3/20\n",
            "31/31 [==============================] - 89s 3s/step - loss: 0.6457 - mean_absolute_error: 0.7171 - val_loss: 0.4095 - val_mean_absolute_error: 0.5153\n",
            "Epoch 4/20\n",
            "31/31 [==============================] - 86s 3s/step - loss: 0.6066 - mean_absolute_error: 0.6906 - val_loss: 0.3674 - val_mean_absolute_error: 0.4730\n",
            "Epoch 5/20\n",
            "31/31 [==============================] - 90s 3s/step - loss: 0.5939 - mean_absolute_error: 0.6821 - val_loss: 0.3629 - val_mean_absolute_error: 0.4750\n",
            "Epoch 6/20\n",
            "31/31 [==============================] - 87s 3s/step - loss: 0.5896 - mean_absolute_error: 0.6788 - val_loss: 0.3491 - val_mean_absolute_error: 0.4562\n",
            "Epoch 7/20\n",
            "31/31 [==============================] - 89s 3s/step - loss: 0.5843 - mean_absolute_error: 0.6749 - val_loss: 0.3510 - val_mean_absolute_error: 0.4607\n",
            "Epoch 1/20\n",
            "31/31 [==============================] - 1s 9ms/step - loss: 0.7162 - mean_absolute_error: 0.7512 - val_loss: 0.6006 - val_mean_absolute_error: 0.6868\n",
            "Epoch 2/20\n",
            "31/31 [==============================] - 0s 5ms/step - loss: 0.5952 - mean_absolute_error: 0.6889 - val_loss: 0.6033 - val_mean_absolute_error: 0.6892\n",
            "Epoch 3/20\n",
            "31/31 [==============================] - 0s 5ms/step - loss: 0.5947 - mean_absolute_error: 0.6888 - val_loss: 0.6039 - val_mean_absolute_error: 0.6899\n",
            "Epoch 1/20\n",
            "31/31 [==============================] - 1s 16ms/step - loss: 0.6598 - mean_absolute_error: 0.7233 - val_loss: 0.6140 - val_mean_absolute_error: 0.7000\n",
            "Epoch 2/20\n",
            "31/31 [==============================] - 0s 12ms/step - loss: 0.5942 - mean_absolute_error: 0.6899 - val_loss: 0.6116 - val_mean_absolute_error: 0.6972\n",
            "Epoch 3/20\n",
            "31/31 [==============================] - 0s 13ms/step - loss: 0.5896 - mean_absolute_error: 0.6845 - val_loss: 0.6195 - val_mean_absolute_error: 0.7044\n",
            "Epoch 4/20\n",
            "31/31 [==============================] - 0s 13ms/step - loss: 0.5799 - mean_absolute_error: 0.6739 - val_loss: 0.6287 - val_mean_absolute_error: 0.7137\n"
          ]
        }
      ]
    },
    {
      "cell_type": "code",
      "source": [
        "pred_e = eLSTM_model.predict(test_X)\n",
        "pred_c = cLSTM_model.predict(test_X)\n",
        "pred_d = Dense_model.predict(test_X)\n",
        "pred_l = Linear_model.predict(test_X)"
      ],
      "metadata": {
        "colab": {
          "base_uri": "https://localhost:8080/"
        },
        "id": "lL8B6LsdcdVw",
        "outputId": "23207dbc-48ae-43d9-ec03-c58e4e27cf0c"
      },
      "execution_count": 15,
      "outputs": [
        {
          "output_type": "stream",
          "name": "stdout",
          "text": [
            "27/27 [==============================] - 2s 43ms/step\n",
            "27/27 [==============================] - 5s 171ms/step\n",
            "27/27 [==============================] - 0s 3ms/step\n",
            "27/27 [==============================] - 0s 2ms/step\n"
          ]
        }
      ]
    },
    {
      "cell_type": "code",
      "source": [
        "# Форматирование предсказаний вариант 1\n",
        "def transform_pred1(pred):\n",
        "  pred_data = []\n",
        "  for i, val in enumerate(pred):\n",
        "    if i==0: \n",
        "      pred_data = val\n",
        "      continue\n",
        "    else: pred_data = np.append(pred_data,val[-1])\n",
        "  print(len(pred_data))\n",
        "  return pred_data"
      ],
      "metadata": {
        "id": "f94W8Y4nciT4"
      },
      "execution_count": 16,
      "outputs": []
    },
    {
      "cell_type": "code",
      "source": [
        "# Форматирование предсказаний вариант 2\n",
        "def transform_pred2(pred):\n",
        "  pred_data = []\n",
        "  for i in range(len(pred)//50+1):\n",
        "    pred_data.extend(pred[i*50])\n",
        "  pred_data.extend(pred[-1][-len(pred)%50+1:])\n",
        "  print(len(pred_data))\n",
        "  return pred_data"
      ],
      "metadata": {
        "id": "N3O6sMvwcj24"
      },
      "execution_count": 17,
      "outputs": []
    },
    {
      "cell_type": "code",
      "source": [
        "transformed_preds = []\n",
        "for pred in [pred_e, pred_c, pred_d, pred_l]:\n",
        "  transformed_preds.append(transform_pred1(pred))"
      ],
      "metadata": {
        "colab": {
          "base_uri": "https://localhost:8080/"
        },
        "id": "7p9_-RDhckvg",
        "outputId": "380ef0f5-1c64-4b43-d9b9-add111d59f82"
      },
      "execution_count": 18,
      "outputs": [
        {
          "output_type": "stream",
          "name": "stdout",
          "text": [
            "907\n",
            "907\n",
            "907\n",
            "907\n"
          ]
        }
      ]
    },
    {
      "cell_type": "code",
      "source": [
        "# Сравнение предсказаний для конкретного окна\n",
        "plt.plot(pred_e[-1] * data_std + data_mean, label='pred')\n",
        "plt.plot(test_y[-1] * data_std + data_mean, label='true')\n",
        "plt.legend()\n",
        "plt.show()"
      ],
      "metadata": {
        "colab": {
          "base_uri": "https://localhost:8080/",
          "height": 265
        },
        "id": "InWIRK-rcmY4",
        "outputId": "b55bf29a-73ff-43d7-9441-d82cbe937a17"
      },
      "execution_count": 19,
      "outputs": [
        {
          "output_type": "display_data",
          "data": {
            "text/plain": [
              "<Figure size 432x288 with 1 Axes>"
            ],
            "image/png": "[encoded data removed]"
          },
          "metadata": {
            "needs_background": "light"
          }
        }
      ]
    },
    {
      "cell_type": "code",
      "source": [
        "pred_data = transform_pred1(pred_c)\n",
        "# Предсказания cLSTM \n",
        "plt.figure(figsize=(15,8))\n",
        "plt.plot(mydata[:-len(pred_data)-len(val_X)] * data_std + data_mean, label=\"train\", c='0.8')\n",
        "plt.plot(mydata[-len(pred_data)-len(val_X):-len(pred_data)] * data_std + data_mean, label=\"val\", c='gray')\n",
        "plt.plot(pd.Series(mydata[-len(pred_data):] * data_std + data_mean), label=\"test\", c='#008000')\n",
        "# for pred_data in transformed_preds:\n",
        "#   plt.plot((pd.Series(pred_data, [len(mydata)-len(pred_data)+i for i in range(len(pred_data))]) * data_std + data_mean))\n",
        "plt.plot((pd.Series(pred_data, [len(mydata)-len(pred_data)+i for i in range(len(pred_data))]) * data_std + data_mean), label=\"pred\", c='#00FF00')\n",
        "plt.legend()\n",
        "plt.show()"
      ],
      "metadata": {
        "colab": {
          "base_uri": "https://localhost:8080/",
          "height": 500
        },
        "id": "lKPEwzaics7o",
        "outputId": "afc3fa19-fddc-4798-80e4-626eb08d9de3"
      },
      "execution_count": 20,
      "outputs": [
        {
          "output_type": "stream",
          "name": "stdout",
          "text": [
            "907\n"
          ]
        },
        {
          "output_type": "display_data",
          "data": {
            "text/plain": [
              "<Figure size 1080x576 with 1 Axes>"
            ],
            "image/png": "[encoded data removed]"
          },
          "metadata": {
            "needs_background": "light"
          }
        }
      ]
    },
    {
      "cell_type": "code",
      "source": [
        "for model in [eLSTM_model, cLSTM_model, Linear_model, Dense_model]:\n",
        " model.evaluate(test_X, test_y)"
      ],
      "metadata": {
        "colab": {
          "base_uri": "https://localhost:8080/"
        },
        "id": "d_R4Tnk5cxHA",
        "outputId": "a2d3c6fc-44e5-4da8-b4af-a6efef93a3cb"
      },
      "execution_count": 25,
      "outputs": [
        {
          "output_type": "stream",
          "name": "stdout",
          "text": [
            "27/27 [==============================] - 2s 57ms/step - loss: 0.1301 - mean_absolute_error: 0.2552\n",
            "27/27 [==============================] - 5s 202ms/step - loss: 0.1254 - mean_absolute_error: 0.2419\n",
            "27/27 [==============================] - 0s 2ms/step - loss: 0.5566 - mean_absolute_error: 0.6007\n",
            "27/27 [==============================] - 0s 3ms/step - loss: 0.4705 - mean_absolute_error: 0.5403\n"
          ]
        }
      ]
    }
  ]
}