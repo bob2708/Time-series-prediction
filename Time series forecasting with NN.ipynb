{
  "nbformat": 4,
  "nbformat_minor": 0,
  "metadata": {
    "colab": {
      "provenance": []
    },
    "kernelspec": {
      "name": "python3",
      "display_name": "Python 3"
    },
    "language_info": {
      "name": "python"
    }
  },
  "cells": [
    {
      "cell_type": "code",
      "source": [
        "!pip install Nasdaq-Data-Link"
      ],
      "metadata": {
        "colab": {
          "base_uri": "https://localhost:8080/"
        },
        "id": "ErL8-uPQaqqy",
        "outputId": "f55cb918-62ab-4205-efbd-f0a5a160b22b"
      },
      "execution_count": 1,
      "outputs": [
        {
          "output_type": "stream",
          "name": "stdout",
          "text": [
            "Looking in indexes: https://pypi.org/simple, https://us-python.pkg.dev/colab-wheels/public/simple/\n",
            "Collecting Nasdaq-Data-Link\n",
            "  Downloading Nasdaq_Data_Link-1.0.4-py2.py3-none-any.whl (28 kB)\n",
            "Requirement already satisfied: requests>=2.7.0 in /usr/local/lib/python3.8/dist-packages (from Nasdaq-Data-Link) (2.23.0)\n",
            "Requirement already satisfied: numpy>=1.8 in /usr/local/lib/python3.8/dist-packages (from Nasdaq-Data-Link) (1.21.6)\n",
            "Collecting inflection>=0.3.1\n",
            "  Downloading inflection-0.5.1-py2.py3-none-any.whl (9.5 kB)\n",
            "Requirement already satisfied: six in /usr/local/lib/python3.8/dist-packages (from Nasdaq-Data-Link) (1.15.0)\n",
            "Requirement already satisfied: pandas>=0.14 in /usr/local/lib/python3.8/dist-packages (from Nasdaq-Data-Link) (1.3.5)\n",
            "Requirement already satisfied: more-itertools in /usr/local/lib/python3.8/dist-packages (from Nasdaq-Data-Link) (9.0.0)\n",
            "Requirement already satisfied: python-dateutil in /usr/local/lib/python3.8/dist-packages (from Nasdaq-Data-Link) (2.8.2)\n",
            "Requirement already satisfied: pytz>=2017.3 in /usr/local/lib/python3.8/dist-packages (from pandas>=0.14->Nasdaq-Data-Link) (2022.6)\n",
            "Requirement already satisfied: certifi>=2017.4.17 in /usr/local/lib/python3.8/dist-packages (from requests>=2.7.0->Nasdaq-Data-Link) (2022.9.24)\n",
            "Requirement already satisfied: urllib3!=1.25.0,!=1.25.1,<1.26,>=1.21.1 in /usr/local/lib/python3.8/dist-packages (from requests>=2.7.0->Nasdaq-Data-Link) (1.24.3)\n",
            "Requirement already satisfied: chardet<4,>=3.0.2 in /usr/local/lib/python3.8/dist-packages (from requests>=2.7.0->Nasdaq-Data-Link) (3.0.4)\n",
            "Requirement already satisfied: idna<3,>=2.5 in /usr/local/lib/python3.8/dist-packages (from requests>=2.7.0->Nasdaq-Data-Link) (2.10)\n",
            "Installing collected packages: inflection, Nasdaq-Data-Link\n",
            "Successfully installed Nasdaq-Data-Link-1.0.4 inflection-0.5.1\n"
          ]
        }
      ]
    },
    {
      "cell_type": "code",
      "execution_count": 84,
      "metadata": {
        "id": "jn-__0yoanlX"
      },
      "outputs": [],
      "source": [
        "import nasdaqdatalink\n",
        "import pandas as pd\n",
        "import numpy as np\n",
        "import matplotlib.pyplot as plt\n",
        "from sklearn.metrics import mean_squared_error, mean_absolute_error\n",
        "from keras.models import Sequential\n",
        "from keras.layers import Dense, Dropout, LSTM\n",
        "from keras.losses import MeanSquaredError\n",
        "from keras.metrics import MeanAbsoluteError\n",
        "from keras.optimizers import Adam\n",
        "from keras.callbacks import EarlyStopping\n",
        "np.random.seed(1234)  "
      ]
    },
    {
      "cell_type": "code",
      "source": [
        "# WTI Crude Oil price from the US Department of Energy\n",
        "mydata = nasdaqdatalink.get(\"EIA/PET_RWTC_D\") \n",
        "mydata.plot()"
      ],
      "metadata": {
        "colab": {
          "base_uri": "https://localhost:8080/",
          "height": 286
        },
        "id": "v2vC5jWGassx",
        "outputId": "a34bd4b2-9844-408c-875a-49899c765bf7"
      },
      "execution_count": 3,
      "outputs": [
        {
          "output_type": "execute_result",
          "data": {
            "text/plain": [
              "<matplotlib.axes._subplots.AxesSubplot at 0x7f92fce74df0>"
            ]
          },
          "metadata": {},
          "execution_count": 3
        },
        {
          "output_type": "display_data",
          "data": {
            "text/plain": [
              "<Figure size 432x288 with 1 Axes>"
            ],
            "image/png": "[encoded data removed]"
          },
          "metadata": {
            "needs_background": "light"
          }
        }
      ]
    },
    {
      "cell_type": "code",
      "source": [
        "# Убрал отрицительное значение\n",
        "mydata.iloc[np.where(mydata<0)[0], :] = 9.00"
      ],
      "metadata": {
        "id": "nB5EMc_uauDq"
      },
      "execution_count": 4,
      "outputs": []
    },
    {
      "cell_type": "code",
      "source": [
        "# Убрал даты - оставил только цены\n",
        "mydata.reset_index(inplace=True)\n",
        "mydata = mydata[\"Value\"]"
      ],
      "metadata": {
        "id": "kLApGGyWawBh"
      },
      "execution_count": 5,
      "outputs": []
    },
    {
      "cell_type": "code",
      "source": [
        "# Стандартизация\n",
        "data_mean = mydata.mean()\n",
        "data_std = mydata.std()\n",
        "mydata = (mydata - data_mean) / data_std"
      ],
      "metadata": {
        "id": "qcCVdykfaxLZ"
      },
      "execution_count": 6,
      "outputs": []
    },
    {
      "cell_type": "code",
      "source": [
        "# Генерация данных\n",
        "data_width = 500\n",
        "label_width = 50\n",
        "\n",
        "def window(data, data_width, label_width):\n",
        "  X = []\n",
        "  y = []\n",
        "  for i in range(data_width, len(data)-label_width):\n",
        "    X.append(data.values[i-data_width:i])\n",
        "    y.append(data.values[i:i+label_width])\n",
        "  return (X, y)\n",
        "\n",
        "X, y = window(mydata, data_width, label_width)"
      ],
      "metadata": {
        "id": "-TSsiYEJazbp"
      },
      "execution_count": 7,
      "outputs": []
    },
    {
      "cell_type": "code",
      "source": [
        "# Разделение на обучение, валидацию и тест\n",
        "n = len(X)\n",
        "train_X = X[0:int(n*0.7)]\n",
        "val_X = X[int(n*0.7):int(n*0.9)]\n",
        "test_X = X[int(n*0.9):]\n",
        "train_y = y[0:int(n*0.7)]\n",
        "val_y = y[int(n*0.7):int(n*0.9)]\n",
        "test_y = y[int(n*0.9):]"
      ],
      "metadata": {
        "id": "Bd_nr8RIa00Z"
      },
      "execution_count": 8,
      "outputs": []
    },
    {
      "cell_type": "code",
      "source": [
        "# Погдотовка данных для нейронной сети\n",
        "train_X = np.asarray(train_X)\n",
        "train_X = train_X.reshape((train_X.shape[0], train_X.shape[1], 1))\n",
        "val_X = np.asarray(val_X)\n",
        "val_X = val_X.reshape((val_X.shape[0], val_X.shape[1], 1))\n",
        "test_X = np.asarray(test_X)\n",
        "test_X = test_X.reshape((test_X.shape[0], test_X.shape[1], 1))\n",
        "train_y = np.asarray(train_y)\n",
        "train_y = train_y.reshape((train_y.shape[0], train_y.shape[1], 1))\n",
        "val_y = np.asarray(val_y)\n",
        "val_y = val_y.reshape((val_y.shape[0], val_y.shape[1], 1))\n",
        "test_y = np.asarray(test_y)\n",
        "test_y = test_y.reshape((test_y.shape[0], test_y.shape[1], 1))"
      ],
      "metadata": {
        "id": "K5jt2DvCa1_p"
      },
      "execution_count": 9,
      "outputs": []
    },
    {
      "cell_type": "code",
      "source": [
        "# Linear model\n",
        "\n",
        "Linear_model = Sequential()\n",
        "Linear_model.add(Dense(units=50, activation='sigmoid', input_shape=(train_X.shape[1], )))\n",
        "Linear_model.compile(loss=MeanSquaredError(), optimizer=Adam(), metrics=[MeanAbsoluteError()])\n",
        "Linear_model.summary()"
      ],
      "metadata": {
        "colab": {
          "base_uri": "https://localhost:8080/"
        },
        "id": "CNNlG6Sga3DZ",
        "outputId": "7d331546-b3dc-4624-8181-798aec313d90"
      },
      "execution_count": 10,
      "outputs": [
        {
          "output_type": "stream",
          "name": "stdout",
          "text": [
            "Model: \"sequential\"\n",
            "_________________________________________________________________\n",
            " Layer (type)                Output Shape              Param #   \n",
            "=================================================================\n",
            " dense (Dense)               (None, 50)                25050     \n",
            "                                                                 \n",
            "=================================================================\n",
            "Total params: 25,050\n",
            "Trainable params: 25,050\n",
            "Non-trainable params: 0\n",
            "_________________________________________________________________\n"
          ]
        }
      ]
    },
    {
      "cell_type": "code",
      "source": [
        "# Dense model\n",
        "\n",
        "Dense_model = Sequential()\n",
        "Dense_model.add(Dense(512, activation='relu', input_shape=(train_X.shape[1], )))\n",
        "Dense_model.add(Dense(50, activation='sigmoid'))\n",
        "\n",
        "Dense_model.compile(loss=MeanSquaredError(), optimizer=Adam(), metrics=[MeanAbsoluteError()])\n",
        "Dense_model.summary()"
      ],
      "metadata": {
        "colab": {
          "base_uri": "https://localhost:8080/"
        },
        "id": "IdIpBt9NbgeK",
        "outputId": "f8fd020d-a023-4c71-a526-ab1d8f09f581"
      },
      "execution_count": 11,
      "outputs": [
        {
          "output_type": "stream",
          "name": "stdout",
          "text": [
            "Model: \"sequential_1\"\n",
            "_________________________________________________________________\n",
            " Layer (type)                Output Shape              Param #   \n",
            "=================================================================\n",
            " dense_1 (Dense)             (None, 512)               256512    \n",
            "                                                                 \n",
            " dense_2 (Dense)             (None, 50)                25650     \n",
            "                                                                 \n",
            "=================================================================\n",
            "Total params: 282,162\n",
            "Trainable params: 282,162\n",
            "Non-trainable params: 0\n",
            "_________________________________________________________________\n"
          ]
        }
      ]
    },
    {
      "cell_type": "code",
      "source": [
        "# LSTM model (easy)\n",
        "\n",
        "eLSTM_model = Sequential()\n",
        "\n",
        "eLSTM_model.add(LSTM(\n",
        "         input_shape=(train_X.shape[1], train_X.shape[2]),\n",
        "         units=32,\n",
        "         return_sequences=False))\n",
        "\n",
        "eLSTM_model.add(Dense(units=50, activation='sigmoid'))\n",
        "eLSTM_model.compile(loss=MeanSquaredError(), optimizer=Adam(), metrics=[MeanAbsoluteError()])\n",
        "eLSTM_model.summary()"
      ],
      "metadata": {
        "colab": {
          "base_uri": "https://localhost:8080/"
        },
        "id": "7zwy22X0bnEY",
        "outputId": "dbb6283d-ab54-48bc-fd5a-f61f32e70ce4"
      },
      "execution_count": 12,
      "outputs": [
        {
          "output_type": "stream",
          "name": "stdout",
          "text": [
            "Model: \"sequential_2\"\n",
            "_________________________________________________________________\n",
            " Layer (type)                Output Shape              Param #   \n",
            "=================================================================\n",
            " lstm (LSTM)                 (None, 32)                4352      \n",
            "                                                                 \n",
            " dense_3 (Dense)             (None, 50)                1650      \n",
            "                                                                 \n",
            "=================================================================\n",
            "Total params: 6,002\n",
            "Trainable params: 6,002\n",
            "Non-trainable params: 0\n",
            "_________________________________________________________________\n"
          ]
        }
      ]
    },
    {
      "cell_type": "code",
      "source": [
        "# LSTM model (complex)\n",
        "\n",
        "cLSTM_model = Sequential()\n",
        "\n",
        "cLSTM_model.add(LSTM(\n",
        "         input_shape=(train_X.shape[1], train_X.shape[2]),\n",
        "         units=100,\n",
        "         return_sequences=True))\n",
        "cLSTM_model.add(Dropout(0.2))\n",
        "\n",
        "cLSTM_model.add(LSTM(\n",
        "          units=50,\n",
        "          return_sequences=False))\n",
        "cLSTM_model.add(Dropout(0.2))\n",
        "\n",
        "cLSTM_model.add(Dense(units=50, activation='sigmoid'))\n",
        "cLSTM_model.compile(loss=MeanSquaredError(), optimizer=Adam(), metrics=[MeanAbsoluteError()])\n",
        "cLSTM_model.summary()"
      ],
      "metadata": {
        "colab": {
          "base_uri": "https://localhost:8080/"
        },
        "id": "C3VDkNvebtsg",
        "outputId": "0d9517a1-3ce5-41b8-e27a-c67ea045740f"
      },
      "execution_count": 13,
      "outputs": [
        {
          "output_type": "stream",
          "name": "stdout",
          "text": [
            "Model: \"sequential_3\"\n",
            "_________________________________________________________________\n",
            " Layer (type)                Output Shape              Param #   \n",
            "=================================================================\n",
            " lstm_1 (LSTM)               (None, 500, 100)          40800     \n",
            "                                                                 \n",
            " dropout (Dropout)           (None, 500, 100)          0         \n",
            "                                                                 \n",
            " lstm_2 (LSTM)               (None, 50)                30200     \n",
            "                                                                 \n",
            " dropout_1 (Dropout)         (None, 50)                0         \n",
            "                                                                 \n",
            " dense_4 (Dense)             (None, 50)                2550      \n",
            "                                                                 \n",
            "=================================================================\n",
            "Total params: 73,550\n",
            "Trainable params: 73,550\n",
            "Non-trainable params: 0\n",
            "_________________________________________________________________\n"
          ]
        }
      ]
    },
    {
      "cell_type": "code",
      "source": [
        "print(\"LSTM\")\n",
        "history_elstm = eLSTM_model.fit(train_X, train_y, epochs=20, batch_size=200, validation_data=(val_X, val_y), verbose=1,\n",
        "                    callbacks = [EarlyStopping(monitor='val_loss', patience=2, mode='min')])\n",
        "history_clstm = cLSTM_model.fit(train_X, train_y, epochs=20, batch_size=200, validation_data=(val_X, val_y), verbose=1,\n",
        "                    callbacks = [EarlyStopping(monitor='val_loss', patience=2, mode='min')])\n",
        "print(\"Linear\")\n",
        "history_linear = Linear_model.fit(train_X, train_y, epochs=20, batch_size=200, validation_data=(val_X, val_y), verbose=1,\n",
        "                    callbacks = [EarlyStopping(monitor='val_loss', patience=2, mode='min')])\n",
        "history_dense = Dense_model.fit(train_X, train_y, epochs=20, batch_size=200, validation_data=(val_X, val_y), verbose=1,\n",
        "                    callbacks = [EarlyStopping(monitor='val_loss', patience=2, mode='min')])"
      ],
      "metadata": {
        "colab": {
          "base_uri": "https://localhost:8080/"
        },
        "id": "p1bT7uLAcYeS",
        "outputId": "a64e660a-1ec2-4788-8dae-f834afa75830"
      },
      "execution_count": 99,
      "outputs": [
        {
          "output_type": "stream",
          "name": "stdout",
          "text": [
            "LSTM\n",
            "Epoch 1/20\n",
            "31/31 [==============================] - 8s 244ms/step - loss: 0.5752 - mean_absolute_error: 0.6674 - val_loss: 0.3596 - val_mean_absolute_error: 0.4760\n",
            "Epoch 2/20\n",
            "31/31 [==============================] - 8s 243ms/step - loss: 0.5750 - mean_absolute_error: 0.6671 - val_loss: 0.3587 - val_mean_absolute_error: 0.4750\n",
            "Epoch 3/20\n",
            "31/31 [==============================] - 8s 269ms/step - loss: 0.5747 - mean_absolute_error: 0.6667 - val_loss: 0.3590 - val_mean_absolute_error: 0.4763\n",
            "Epoch 4/20\n",
            "31/31 [==============================] - 7s 239ms/step - loss: 0.5744 - mean_absolute_error: 0.6666 - val_loss: 0.3574 - val_mean_absolute_error: 0.4741\n",
            "Epoch 5/20\n",
            "31/31 [==============================] - 7s 239ms/step - loss: 0.5742 - mean_absolute_error: 0.6663 - val_loss: 0.3568 - val_mean_absolute_error: 0.4735\n",
            "Epoch 6/20\n",
            "31/31 [==============================] - 8s 243ms/step - loss: 0.5740 - mean_absolute_error: 0.6662 - val_loss: 0.3554 - val_mean_absolute_error: 0.4714\n",
            "Epoch 7/20\n",
            "31/31 [==============================] - 7s 239ms/step - loss: 0.5738 - mean_absolute_error: 0.6661 - val_loss: 0.3557 - val_mean_absolute_error: 0.4721\n",
            "Epoch 8/20\n",
            "31/31 [==============================] - 8s 243ms/step - loss: 0.5737 - mean_absolute_error: 0.6658 - val_loss: 0.3560 - val_mean_absolute_error: 0.4734\n",
            "Epoch 1/20\n",
            "31/31 [==============================] - 69s 2s/step - loss: 0.5756 - mean_absolute_error: 0.6683 - val_loss: 0.3470 - val_mean_absolute_error: 0.4610\n",
            "Epoch 2/20\n",
            "31/31 [==============================] - 68s 2s/step - loss: 0.5751 - mean_absolute_error: 0.6679 - val_loss: 0.3469 - val_mean_absolute_error: 0.4613\n",
            "Epoch 3/20\n",
            "31/31 [==============================] - 63s 2s/step - loss: 0.5734 - mean_absolute_error: 0.6661 - val_loss: 0.3435 - val_mean_absolute_error: 0.4540\n",
            "Epoch 4/20\n",
            "31/31 [==============================] - 70s 2s/step - loss: 0.5729 - mean_absolute_error: 0.6657 - val_loss: 0.3449 - val_mean_absolute_error: 0.4556\n",
            "Epoch 5/20\n",
            "31/31 [==============================] - 62s 2s/step - loss: 0.5741 - mean_absolute_error: 0.6669 - val_loss: 0.3468 - val_mean_absolute_error: 0.4597\n",
            "Linear\n",
            "Epoch 1/20\n",
            "31/31 [==============================] - 0s 5ms/step - loss: 0.5939 - mean_absolute_error: 0.6885 - val_loss: 0.6060 - val_mean_absolute_error: 0.6949\n",
            "Epoch 2/20\n",
            "31/31 [==============================] - 0s 4ms/step - loss: 0.5938 - mean_absolute_error: 0.6885 - val_loss: 0.6063 - val_mean_absolute_error: 0.6953\n",
            "Epoch 3/20\n",
            "31/31 [==============================] - 0s 5ms/step - loss: 0.5938 - mean_absolute_error: 0.6884 - val_loss: 0.6065 - val_mean_absolute_error: 0.6956\n",
            "Epoch 1/20\n",
            "31/31 [==============================] - 0s 11ms/step - loss: 0.5670 - mean_absolute_error: 0.6590 - val_loss: 0.6335 - val_mean_absolute_error: 0.7181\n",
            "Epoch 2/20\n",
            "31/31 [==============================] - 0s 10ms/step - loss: 0.5665 - mean_absolute_error: 0.6577 - val_loss: 0.6342 - val_mean_absolute_error: 0.7184\n",
            "Epoch 3/20\n",
            "31/31 [==============================] - 0s 10ms/step - loss: 0.5661 - mean_absolute_error: 0.6567 - val_loss: 0.6365 - val_mean_absolute_error: 0.7208\n"
          ]
        }
      ]
    },
    {
      "cell_type": "code",
      "source": [
        "# \"Базовые\" предсказания\n",
        "repeat_pred = []\n",
        "naive_pred = []\n",
        "for x in test_X.reshape(test_X.shape[0], test_X.shape[1]):\n",
        "  repeat_pred.append(x[-50:])\n",
        "  naive_pred.append(np.asarray([x[-1] for i in range(50)]))"
      ],
      "metadata": {
        "id": "aU2-64dOf6zq"
      },
      "execution_count": 100,
      "outputs": []
    },
    {
      "cell_type": "code",
      "source": [
        "print(f'naive model mean_absolute_error: {mean_absolute_error(test_y.reshape(test_y.shape[0], test_y.shape[1]), naive_pred):.4f}\\n'+\n",
        "      f'repeat model mean_absolute_error: {mean_absolute_error(test_y.reshape(test_y.shape[0], test_y.shape[1]), repeat_pred):.4f}')"
      ],
      "metadata": {
        "colab": {
          "base_uri": "https://localhost:8080/"
        },
        "id": "Uu31R6FzgitB",
        "outputId": "68b32b0d-025f-4cdb-eaff-20d813ee4811"
      },
      "execution_count": 101,
      "outputs": [
        {
          "output_type": "stream",
          "name": "stdout",
          "text": [
            "naive model mean_absolute_error: 0.2028\n",
            "repeat model mean_absolute_error: 0.3108\n"
          ]
        }
      ]
    },
    {
      "cell_type": "code",
      "source": [
        "for model, name in [(eLSTM_model, 'simple LSTM'), (cLSTM_model, 'complex LSTM'), (Linear_model, 'linear model'), (Dense_model, 'simple NN')]:\n",
        " print(name)\n",
        " model.evaluate(test_X, test_y)"
      ],
      "metadata": {
        "colab": {
          "base_uri": "https://localhost:8080/"
        },
        "id": "d_R4Tnk5cxHA",
        "outputId": "692bd82c-4f23-441e-d046-3da6e732b546"
      },
      "execution_count": 102,
      "outputs": [
        {
          "output_type": "stream",
          "name": "stdout",
          "text": [
            "simple LSTM\n",
            "27/27 [==============================] - 1s 29ms/step - loss: 0.1336 - mean_absolute_error: 0.2509\n",
            "complex LSTM\n",
            "27/27 [==============================] - 3s 111ms/step - loss: 0.1358 - mean_absolute_error: 0.2561\n",
            "linear model\n",
            "27/27 [==============================] - 0s 1ms/step - loss: 0.5491 - mean_absolute_error: 0.5909\n",
            "simple NN\n",
            "27/27 [==============================] - 0s 2ms/step - loss: 0.4121 - mean_absolute_error: 0.5036\n"
          ]
        }
      ]
    },
    {
      "cell_type": "code",
      "source": [
        "pred_e = eLSTM_model.predict(test_X)\n",
        "pred_c = cLSTM_model.predict(test_X)\n",
        "pred_d = Dense_model.predict(test_X)\n",
        "pred_l = Linear_model.predict(test_X)"
      ],
      "metadata": {
        "colab": {
          "base_uri": "https://localhost:8080/"
        },
        "id": "lL8B6LsdcdVw",
        "outputId": "30b4768d-17e3-4976-c8da-88a954743d03"
      },
      "execution_count": 103,
      "outputs": [
        {
          "output_type": "stream",
          "name": "stdout",
          "text": [
            "27/27 [==============================] - 1s 30ms/step\n",
            "27/27 [==============================] - 3s 110ms/step\n",
            "27/27 [==============================] - 0s 2ms/step\n",
            "27/27 [==============================] - 0s 1ms/step\n"
          ]
        }
      ]
    },
    {
      "cell_type": "code",
      "source": [
        "# Форматирование предсказаний вариант 1\n",
        "def transform_pred1(pred):\n",
        "  pred_data = []\n",
        "  for i, val in enumerate(pred):\n",
        "    if i==0: \n",
        "      pred_data = val\n",
        "      continue\n",
        "    else: pred_data = np.append(pred_data,val[-1])\n",
        "  print(len(pred_data))\n",
        "  return pred_data"
      ],
      "metadata": {
        "id": "f94W8Y4nciT4"
      },
      "execution_count": 104,
      "outputs": []
    },
    {
      "cell_type": "code",
      "source": [
        "# Форматирование предсказаний вариант 2\n",
        "def transform_pred2(pred):\n",
        "  pred_data = []\n",
        "  for i in range(len(pred)//50+1):\n",
        "    pred_data.extend(pred[i*50])\n",
        "  pred_data.extend(pred[-1][-len(pred)%50+1:])\n",
        "  print(len(pred_data))\n",
        "  return pred_data"
      ],
      "metadata": {
        "id": "N3O6sMvwcj24"
      },
      "execution_count": 105,
      "outputs": []
    },
    {
      "cell_type": "code",
      "source": [
        "# Сравнение предсказаний для конкретного окна\n",
        "plt.plot(naive_pred[-1] * data_std + data_mean, label='Naive')\n",
        "plt.plot(pred_e[-1] * data_std + data_mean, label='LSTM')\n",
        "plt.plot(test_y[-1] * data_std + data_mean, label='true')\n",
        "plt.legend()\n",
        "plt.show()"
      ],
      "metadata": {
        "colab": {
          "base_uri": "https://localhost:8080/",
          "height": 265
        },
        "id": "InWIRK-rcmY4",
        "outputId": "a531154f-15f0-4347-e4b4-367a26c3f174"
      },
      "execution_count": 106,
      "outputs": [
        {
          "output_type": "display_data",
          "data": {
            "text/plain": [
              "<Figure size 432x288 with 1 Axes>"
            ],
            "image/png": "[encoded data removed]"
          },
          "metadata": {
            "needs_background": "light"
          }
        }
      ]
    },
    {
      "cell_type": "code",
      "source": [
        "# Выбор предсказаний конкретной модели\n",
        "pred_data = transform_pred1(pred_e)\n",
        "# Отрисовка предсказаний \n",
        "plt.figure(figsize=(15,8))\n",
        "plt.plot(mydata[:-len(pred_data)-len(val_X)] * data_std + data_mean, label=\"train\", c='0.8')\n",
        "plt.plot(mydata[-len(pred_data)-len(val_X):-len(pred_data)] * data_std + data_mean, label=\"val\", c='gray')\n",
        "plt.plot(pd.Series(mydata[-len(pred_data):] * data_std + data_mean), label=\"test\", c='#008000')\n",
        "plt.plot((pd.Series(pred_data, [len(mydata)-len(pred_data)+i for i in range(len(pred_data))]) * data_std + data_mean), label=\"pred\", c='#00FF00')\n",
        "plt.legend()\n",
        "plt.show()"
      ],
      "metadata": {
        "colab": {
          "base_uri": "https://localhost:8080/",
          "height": 500
        },
        "id": "lKPEwzaics7o",
        "outputId": "2cad80f2-9e9f-4daa-b4f4-278725c6921f"
      },
      "execution_count": 108,
      "outputs": [
        {
          "output_type": "stream",
          "name": "stdout",
          "text": [
            "907\n"
          ]
        },
        {
          "output_type": "display_data",
          "data": {
            "text/plain": [
              "<Figure size 1080x576 with 1 Axes>"
            ],
            "image/png": "[encoded data removed]"
          },
          "metadata": {
            "needs_background": "light"
          }
        }
      ]
    }
  ]
}